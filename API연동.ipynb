{
 "cells": [
  {
   "cell_type": "code",
   "execution_count": 15,
   "metadata": {},
   "outputs": [],
   "source": [
    "import requests\n",
    "import json\n",
    "import datetime as dt"
   ]
  },
  {
   "cell_type": "code",
   "execution_count": 28,
   "metadata": {},
   "outputs": [
    {
     "data": {
      "text/plain": [
       "'\\n\\nstartDate 분석 시작월(필수) string\\nendDate 분석 종료월(필수) string\\nsido 시도 string\\nsigungu 시군구 string\\ncityGubun 도심구분 string\\nmarketType 업종 string\\nuserType 관광객구분 string\\nageGroup 연령대 string\\ngender 성별 string\\n\\n'"
      ]
     },
     "execution_count": 28,
     "metadata": {},
     "output_type": "execute_result"
    }
   ],
   "source": [
    "params = 'startDate=201601&endDate=201902'\n",
    "# [소비, 경제] 내국인 관광객 지역, 업종, 성별, 연령대별 카드 이용 데이터 https://www.jejudatahub.net/data/view/data/597\n",
    "''' \n",
    "\n",
    "startDate 분석 시작월(필수) string\n",
    "endDate 분석 종료월(필수) string\n",
    "sido 시도 string\n",
    "sigungu 시군구 string\n",
    "cityGubun 도심구분 string\n",
    "marketType 업종 string\n",
    "userType 관광객구분 string\n",
    "ageGroup 연령대 string\n",
    "gender 성별 string\n",
    "\n",
    "'''\n",
    "\n",
    "# [소비, 경제] 단체/개별 관광객 소비 데이터 https://www.jejudatahub.net/data/view/data/603\n",
    "\n",
    "'''\n",
    "startDate 분석 시작일(필수) string\n",
    "endDate 분석 종료일(필수) string\n",
    "marketType 업종 string\n",
    "userType 관광객구분 string\n",
    "individualGroup 단체구분 string\n",
    "\n",
    "'''"
   ]
  },
  {
   "cell_type": "code",
   "execution_count": 50,
   "metadata": {},
   "outputs": [],
   "source": [
    "url = 'https://open.jejudatahub.net/api/proxy/5D5a577taba7tbb71at1b1bt9tatata9/co726c59_o225rt5r20_ee299jtcc606?startDate=201601&endDate=201902' # [소비, 경제] 내국인 관광객 지역, 업종, 성별, 연령대별 카드 이용 데이터 https://www.jejudatahub.net/data/view/data/597\n",
    "'https://open.jejudatahub.net/api/proxy/tDatbD61tD1tata3t3at3Dtt03D10D63/{your_projectKey}?{params(key=value)}' # [소비, 경제] 단체/개별 관광객 소비 데이터 https://www.jejudatahub.net/data/view/data/603\n"
   ]
  },
  {
   "cell_type": "code",
   "execution_count": 46,
   "metadata": {},
   "outputs": [],
   "source": [
    "session = requests.Session()\n",
    "\n",
    "session.headers.update({\n",
    "    \"Referer\": \"\",\n",
    "    \"User-Agent\": \"Mozilla/5.0 (Windows NT 10.0; Win64; x64) AppleWebKit/537.36 (KHTML, like Gecko) Chrome/120.0.0.0 Safari/537.36\"\n",
    "})"
   ]
  },
  {
   "cell_type": "code",
   "execution_count": 51,
   "metadata": {},
   "outputs": [],
   "source": [
    "try:\n",
    "    r = session.get(url)\n",
    "    \n",
    "    if r.status_code != 200:\n",
    "        msg = \"[%d Error] %s 에러가 발생함\" % (r.status_code, r.reason)\n",
    "        raise Exception(msg)\n",
    "except Exception as e:\n",
    "    print(\"접속에 실패했습니다.\")\n",
    "    print(e)\n",
    "\n",
    "    "
   ]
  },
  {
   "cell_type": "code",
   "execution_count": 52,
   "metadata": {},
   "outputs": [],
   "source": [
    "r.encoding = \"utf-8\"\n",
    "mydict = json.loads(r.text)\n"
   ]
  },
  {
   "cell_type": "code",
   "execution_count": 59,
   "metadata": {},
   "outputs": [
    {
     "data": {
      "text/plain": [
       "[{'sido': '제주도',\n",
       "  'sigungu': '제주시',\n",
       "  'cityGubun': '읍면',\n",
       "  'marketType': '유흥',\n",
       "  'userType': '제주도민',\n",
       "  'ageGroup': '60대이상',\n",
       "  'gender': '여',\n",
       "  'dtYearMonth': '201812',\n",
       "  'userCount': 23,\n",
       "  'useCount': 29,\n",
       "  'useCost': 4240100},\n",
       " {'sido': '제주도',\n",
       "  'sigungu': '제주시',\n",
       "  'cityGubun': '읍면',\n",
       "  'marketType': '유흥',\n",
       "  'userType': '제주도민',\n",
       "  'ageGroup': '60대이상',\n",
       "  'gender': '남',\n",
       "  'dtYearMonth': '201812',\n",
       "  'userCount': 114,\n",
       "  'useCount': 190,\n",
       "  'useCost': 27414000},\n",
       " {'sido': '제주도',\n",
       "  'sigungu': '제주시',\n",
       "  'cityGubun': '읍면',\n",
       "  'marketType': '유흥',\n",
       "  'userType': '제주도민',\n",
       "  'ageGroup': '50대',\n",
       "  'gender': '여',\n",
       "  'dtYearMonth': '201812',\n",
       "  'userCount': 52,\n",
       "  'useCount': 71,\n",
       "  'useCost': 6848000},\n",
       " {'sido': '제주도',\n",
       "  'sigungu': '제주시',\n",
       "  'cityGubun': '읍면',\n",
       "  'marketType': '유흥',\n",
       "  'userType': '제주도민',\n",
       "  'ageGroup': '50대',\n",
       "  'gender': '남',\n",
       "  'dtYearMonth': '201812',\n",
       "  'userCount': 259,\n",
       "  'useCount': 458,\n",
       "  'useCost': 91468500},\n",
       " {'sido': '제주도',\n",
       "  'sigungu': '제주시',\n",
       "  'cityGubun': '읍면',\n",
       "  'marketType': '유흥',\n",
       "  'userType': '제주도민',\n",
       "  'ageGroup': '40대',\n",
       "  'gender': '여',\n",
       "  'dtYearMonth': '201812',\n",
       "  'userCount': 77,\n",
       "  'useCount': 99,\n",
       "  'useCost': 10021600},\n",
       " {'sido': '제주도',\n",
       "  'sigungu': '제주시',\n",
       "  'cityGubun': '읍면',\n",
       "  'marketType': '유흥',\n",
       "  'userType': '제주도민',\n",
       "  'ageGroup': '40대',\n",
       "  'gender': '남',\n",
       "  'dtYearMonth': '201812',\n",
       "  'userCount': 238,\n",
       "  'useCount': 375,\n",
       "  'useCost': 63455500},\n",
       " {'sido': '제주도',\n",
       "  'sigungu': '제주시',\n",
       "  'cityGubun': '읍면',\n",
       "  'marketType': '유흥',\n",
       "  'userType': '제주도민',\n",
       "  'ageGroup': '30대',\n",
       "  'gender': '여',\n",
       "  'dtYearMonth': '201812',\n",
       "  'userCount': 43,\n",
       "  'useCount': 61,\n",
       "  'useCost': 8359000},\n",
       " {'sido': '제주도',\n",
       "  'sigungu': '제주시',\n",
       "  'cityGubun': '읍면',\n",
       "  'marketType': '유흥',\n",
       "  'userType': '제주도민',\n",
       "  'ageGroup': '30대',\n",
       "  'gender': '남',\n",
       "  'dtYearMonth': '201812',\n",
       "  'userCount': 129,\n",
       "  'useCount': 188,\n",
       "  'useCost': 25670700},\n",
       " {'sido': '제주도',\n",
       "  'sigungu': '제주시',\n",
       "  'cityGubun': '읍면',\n",
       "  'marketType': '유흥',\n",
       "  'userType': '제주도민',\n",
       "  'ageGroup': '20대미만',\n",
       "  'gender': '남',\n",
       "  'dtYearMonth': '201812',\n",
       "  'userCount': 1,\n",
       "  'useCount': 3,\n",
       "  'useCost': 680000},\n",
       " {'sido': '제주도',\n",
       "  'sigungu': '제주시',\n",
       "  'cityGubun': '읍면',\n",
       "  'marketType': '유흥',\n",
       "  'userType': '제주도민',\n",
       "  'ageGroup': '20대',\n",
       "  'gender': '여',\n",
       "  'dtYearMonth': '201812',\n",
       "  'userCount': 38,\n",
       "  'useCount': 43,\n",
       "  'useCost': 2391000}]"
      ]
     },
     "execution_count": 59,
     "metadata": {},
     "output_type": "execute_result"
    }
   ],
   "source": [
    "mydict['data']"
   ]
  },
  {
   "cell_type": "code",
   "execution_count": null,
   "metadata": {},
   "outputs": [],
   "source": []
  }
 ],
 "metadata": {
  "kernelspec": {
   "display_name": "Python 3",
   "language": "python",
   "name": "python3"
  },
  "language_info": {
   "codemirror_mode": {
    "name": "ipython",
    "version": 3
   },
   "file_extension": ".py",
   "mimetype": "text/x-python",
   "name": "python",
   "nbconvert_exporter": "python",
   "pygments_lexer": "ipython3",
   "version": "3.11.7"
  }
 },
 "nbformat": 4,
 "nbformat_minor": 2
}
