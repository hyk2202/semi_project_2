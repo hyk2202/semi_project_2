{
 "cells": [
  {
   "cell_type": "markdown",
   "metadata": {},
   "source": [
    "# 파일 다운로드"
   ]
  },
  {
   "cell_type": "code",
   "execution_count": 3,
   "metadata": {},
   "outputs": [],
   "source": [
    "import sys\n",
    "from pandas import read_csv, pivot_table, melt\n",
    "from matplotlib import pyplot as plt\n",
    "import seaborn as sns\n",
    "import numpy as np"
   ]
  },
  {
   "cell_type": "code",
   "execution_count": 4,
   "metadata": {},
   "outputs": [],
   "source": [
    "plt.rcParams['font.family'] = 'AppleGothic' if sys.platform == 'darwin' else 'Malgun Gothic'\n",
    "plt.rcParams['font.size'] = 12\n",
    "plt.rcParams['figure.figsize'] = (12, 6)\n",
    "plt.rcParams['figure.dpi'] = 200\n",
    "plt.rcParams['axes.unicode_minus'] = False"
   ]
  },
  {
   "cell_type": "code",
   "execution_count": 5,
   "metadata": {},
   "outputs": [],
   "source": [
    "# origin1 = read_csv('C:/Users/kimjh/산대특_데이터분석 알고리즘 개발/megaIT_da/2차 프로젝트/시간대별 카드 이용금액 현황_제주데이터랩(180101-231031).csv')\n",
    "# origin2 = read_csv('C:/Users/kimjh/산대특_데이터분석 알고리즘 개발/megaIT_da/2차 프로젝트/업종별성별외식업이용정보_제주데이터랩(180101-231031).csv')\n",
    "origin1 = read_csv('../../파일/종현/업종별성별카드이용정보_제주데이터랩(180101-231031).csv', encoding='euc-kr')"
   ]
  },
  {
   "cell_type": "code",
   "execution_count": 6,
   "metadata": {},
   "outputs": [
    {
     "data": {
      "text/html": [
       "<div>\n",
       "<style scoped>\n",
       "    .dataframe tbody tr th:only-of-type {\n",
       "        vertical-align: middle;\n",
       "    }\n",
       "\n",
       "    .dataframe tbody tr th {\n",
       "        vertical-align: top;\n",
       "    }\n",
       "\n",
       "    .dataframe thead th {\n",
       "        text-align: right;\n",
       "    }\n",
       "</style>\n",
       "<table border=\"1\" class=\"dataframe\">\n",
       "  <thead>\n",
       "    <tr style=\"text-align: right;\">\n",
       "      <th></th>\n",
       "      <th>연월</th>\n",
       "      <th>업종명</th>\n",
       "      <th>이용자구분</th>\n",
       "      <th>성별</th>\n",
       "      <th>이용자수</th>\n",
       "      <th>이용건수</th>\n",
       "      <th>이용금액</th>\n",
       "    </tr>\n",
       "  </thead>\n",
       "  <tbody>\n",
       "    <tr>\n",
       "      <th>0</th>\n",
       "      <td>201801</td>\n",
       "      <td>건강보조식품 소매업</td>\n",
       "      <td>기타외국</td>\n",
       "      <td>알수없음</td>\n",
       "      <td>65</td>\n",
       "      <td>78</td>\n",
       "      <td>101523250</td>\n",
       "    </tr>\n",
       "    <tr>\n",
       "      <th>1</th>\n",
       "      <td>201801</td>\n",
       "      <td>건강보조식품 소매업</td>\n",
       "      <td>내국인</td>\n",
       "      <td>남성</td>\n",
       "      <td>159</td>\n",
       "      <td>165</td>\n",
       "      <td>25558470</td>\n",
       "    </tr>\n",
       "    <tr>\n",
       "      <th>2</th>\n",
       "      <td>201801</td>\n",
       "      <td>건강보조식품 소매업</td>\n",
       "      <td>내국인</td>\n",
       "      <td>알수없음</td>\n",
       "      <td>1</td>\n",
       "      <td>1</td>\n",
       "      <td>396000</td>\n",
       "    </tr>\n",
       "    <tr>\n",
       "      <th>3</th>\n",
       "      <td>201801</td>\n",
       "      <td>건강보조식품 소매업</td>\n",
       "      <td>내국인</td>\n",
       "      <td>여성</td>\n",
       "      <td>200</td>\n",
       "      <td>218</td>\n",
       "      <td>32041740</td>\n",
       "    </tr>\n",
       "    <tr>\n",
       "      <th>4</th>\n",
       "      <td>201801</td>\n",
       "      <td>건강보조식품 소매업</td>\n",
       "      <td>동남아</td>\n",
       "      <td>알수없음</td>\n",
       "      <td>8</td>\n",
       "      <td>8</td>\n",
       "      <td>1550000</td>\n",
       "    </tr>\n",
       "  </tbody>\n",
       "</table>\n",
       "</div>"
      ],
      "text/plain": [
       "       연월         업종명 이용자구분    성별  이용자수  이용건수       이용금액\n",
       "0  201801  건강보조식품 소매업  기타외국  알수없음    65    78  101523250\n",
       "1  201801  건강보조식품 소매업   내국인    남성   159   165   25558470\n",
       "2  201801  건강보조식품 소매업   내국인  알수없음     1     1     396000\n",
       "3  201801  건강보조식품 소매업   내국인    여성   200   218   32041740\n",
       "4  201801  건강보조식품 소매업   동남아  알수없음     8     8    1550000"
      ]
     },
     "execution_count": 6,
     "metadata": {},
     "output_type": "execute_result"
    }
   ],
   "source": [
    "origin1.head()"
   ]
  },
  {
   "cell_type": "code",
   "execution_count": 7,
   "metadata": {},
   "outputs": [
    {
     "data": {
      "text/plain": [
       "이용자구분\n",
       "내국인     6376\n",
       "제주도민    5616\n",
       "법인      2795\n",
       "중국      1878\n",
       "기타외국    1865\n",
       "일본      1113\n",
       "동남아     1001\n",
       "Name: count, dtype: int64"
      ]
     },
     "execution_count": 7,
     "metadata": {},
     "output_type": "execute_result"
    }
   ],
   "source": [
    "origin1['이용자구분'].value_counts()"
   ]
  },
  {
   "cell_type": "code",
   "execution_count": 8,
   "metadata": {},
   "outputs": [],
   "source": [
    "tmp = origin1.query('이용자구분 != \"제주도민\"')"
   ]
  },
  {
   "cell_type": "code",
   "execution_count": 9,
   "metadata": {},
   "outputs": [
    {
     "name": "stderr",
     "output_type": "stream",
     "text": [
      "C:\\Users\\hyk\\AppData\\Local\\Temp\\ipykernel_11404\\1532828591.py:1: SettingWithCopyWarning: \n",
      "A value is trying to be set on a copy of a slice from a DataFrame.\n",
      "Try using .loc[row_indexer,col_indexer] = value instead\n",
      "\n",
      "See the caveats in the documentation: https://pandas.pydata.org/pandas-docs/stable/user_guide/indexing.html#returning-a-view-versus-a-copy\n",
      "  tmp['이용자구분'] = origin1['이용자구분'].astype('category')\n",
      "C:\\Users\\hyk\\AppData\\Local\\Temp\\ipykernel_11404\\1532828591.py:2: SettingWithCopyWarning: \n",
      "A value is trying to be set on a copy of a slice from a DataFrame.\n",
      "Try using .loc[row_indexer,col_indexer] = value instead\n",
      "\n",
      "See the caveats in the documentation: https://pandas.pydata.org/pandas-docs/stable/user_guide/indexing.html#returning-a-view-versus-a-copy\n",
      "  tmp['성별'] = origin1['성별'].astype('category')\n",
      "C:\\Users\\hyk\\AppData\\Local\\Temp\\ipykernel_11404\\1532828591.py:3: SettingWithCopyWarning: \n",
      "A value is trying to be set on a copy of a slice from a DataFrame.\n",
      "Try using .loc[row_indexer,col_indexer] = value instead\n",
      "\n",
      "See the caveats in the documentation: https://pandas.pydata.org/pandas-docs/stable/user_guide/indexing.html#returning-a-view-versus-a-copy\n",
      "  tmp['업종명'] = origin1['업종명'].astype('category')\n"
     ]
    }
   ],
   "source": [
    "tmp['이용자구분'] = origin1['이용자구분'].astype('category')\n",
    "tmp['성별'] = origin1['성별'].astype('category')\n",
    "tmp['업종명'] = origin1['업종명'].astype('category')"
   ]
  },
  {
   "cell_type": "code",
   "execution_count": null,
   "metadata": {},
   "outputs": [],
   "source": []
  },
  {
   "cell_type": "code",
   "execution_count": null,
   "metadata": {},
   "outputs": [],
   "source": []
  },
  {
   "cell_type": "code",
   "execution_count": 10,
   "metadata": {},
   "outputs": [
    {
     "data": {
      "text/plain": [
       "연월        int64\n",
       "업종명      object\n",
       "이용자구분    object\n",
       "성별       object\n",
       "이용자수      int64\n",
       "이용건수      int64\n",
       "이용금액      int64\n",
       "dtype: object"
      ]
     },
     "execution_count": 10,
     "metadata": {},
     "output_type": "execute_result"
    }
   ],
   "source": [
    "origin1.dtypes"
   ]
  },
  {
   "cell_type": "code",
   "execution_count": 11,
   "metadata": {},
   "outputs": [],
   "source": [
    "df = origin1.copy()\n",
    "\n",
    "df['이용자구분'] = origin1['이용자구분'].astype('category')\n",
    "df['성별'] = origin1['성별'].astype('category')\n",
    "df['업종명'] = origin1['업종명'].astype('category')"
   ]
  },
  {
   "cell_type": "code",
   "execution_count": 25,
   "metadata": {},
   "outputs": [],
   "source": [
    "숙박 = ['여관업','호텔업', '휴양콘도 운영업']\n",
    "식비 = ['과실 및 채소 소매업','기타 외국식 음식점업', '기타 주점업', '기타음식료품위주종합소매업','비알콜 음료점업', '빵 및 과자류 소매업', '서양식 음식점업', '수산물 소매업', '슈퍼마켓','육류 소매업', '일반유흥 주점업', '일식 음식점업','중식 음식점업',  '체인화 편의점', '피자, 햄버거, 샌드위치 및 유사 음식점업', '한식 음식점업', '기타음?식료품위주종합소매업']\n",
    "교통 = ['내항 여객 운송업','버스 운송업','자동차 임대업',  '정기 항공 운송업','차량용 가스 충전업', '차량용 주유소 운영업','택시 운송업' ]\n",
    "기타 = ['건강보조식품 소매업','골프장 운영업','관광 민예품 및 선물용품 소매업', '그외 기타 분류안된 오락관련 서비스업', '그외 기타 스포츠시설 운영업', '그외 기타 종합 소매업', '기타 갬블링 및 베팅업', '기타 대형 종합 소매업', '기타 수상오락 서비스업','마사지업', '면세점','스포츠 및 레크레이션 용품 임대업',  '여행사업', '욕탕업','전시 및 행사 대행업','화장품 및 방향제 소매업']"
   ]
  },
  {
   "cell_type": "code",
   "execution_count": 50,
   "metadata": {},
   "outputs": [
    {
     "data": {
      "text/html": [
       "<div>\n",
       "<style scoped>\n",
       "    .dataframe tbody tr th:only-of-type {\n",
       "        vertical-align: middle;\n",
       "    }\n",
       "\n",
       "    .dataframe tbody tr th {\n",
       "        vertical-align: top;\n",
       "    }\n",
       "\n",
       "    .dataframe thead th {\n",
       "        text-align: right;\n",
       "    }\n",
       "</style>\n",
       "<table border=\"1\" class=\"dataframe\">\n",
       "  <thead>\n",
       "    <tr style=\"text-align: right;\">\n",
       "      <th></th>\n",
       "      <th>연월</th>\n",
       "      <th>업종명</th>\n",
       "      <th>이용자구분</th>\n",
       "      <th>성별</th>\n",
       "      <th>이용자수</th>\n",
       "      <th>이용건수</th>\n",
       "      <th>이용금액</th>\n",
       "    </tr>\n",
       "  </thead>\n",
       "  <tbody>\n",
       "    <tr>\n",
       "      <th>3646</th>\n",
       "      <td>201901</td>\n",
       "      <td>건강보조식품 소매업</td>\n",
       "      <td>기타외국</td>\n",
       "      <td>알수없음</td>\n",
       "      <td>343</td>\n",
       "      <td>378</td>\n",
       "      <td>374081950</td>\n",
       "    </tr>\n",
       "    <tr>\n",
       "      <th>3647</th>\n",
       "      <td>201901</td>\n",
       "      <td>건강보조식품 소매업</td>\n",
       "      <td>내국인</td>\n",
       "      <td>남성</td>\n",
       "      <td>162</td>\n",
       "      <td>168</td>\n",
       "      <td>40399730</td>\n",
       "    </tr>\n",
       "    <tr>\n",
       "      <th>3648</th>\n",
       "      <td>201901</td>\n",
       "      <td>건강보조식품 소매업</td>\n",
       "      <td>내국인</td>\n",
       "      <td>여성</td>\n",
       "      <td>185</td>\n",
       "      <td>201</td>\n",
       "      <td>41201115</td>\n",
       "    </tr>\n",
       "    <tr>\n",
       "      <th>3649</th>\n",
       "      <td>201901</td>\n",
       "      <td>건강보조식품 소매업</td>\n",
       "      <td>동남아</td>\n",
       "      <td>알수없음</td>\n",
       "      <td>3</td>\n",
       "      <td>3</td>\n",
       "      <td>2561000</td>\n",
       "    </tr>\n",
       "    <tr>\n",
       "      <th>3650</th>\n",
       "      <td>201901</td>\n",
       "      <td>건강보조식품 소매업</td>\n",
       "      <td>법인</td>\n",
       "      <td>알수없음</td>\n",
       "      <td>265</td>\n",
       "      <td>292</td>\n",
       "      <td>137864570</td>\n",
       "    </tr>\n",
       "    <tr>\n",
       "      <th>...</th>\n",
       "      <td>...</td>\n",
       "      <td>...</td>\n",
       "      <td>...</td>\n",
       "      <td>...</td>\n",
       "      <td>...</td>\n",
       "      <td>...</td>\n",
       "      <td>...</td>\n",
       "    </tr>\n",
       "    <tr>\n",
       "      <th>7401</th>\n",
       "      <td>201912</td>\n",
       "      <td>휴양콘도 운영업</td>\n",
       "      <td>내국인</td>\n",
       "      <td>여성</td>\n",
       "      <td>4518</td>\n",
       "      <td>5274</td>\n",
       "      <td>414940548</td>\n",
       "    </tr>\n",
       "    <tr>\n",
       "      <th>7402</th>\n",
       "      <td>201912</td>\n",
       "      <td>휴양콘도 운영업</td>\n",
       "      <td>법인</td>\n",
       "      <td>알수없음</td>\n",
       "      <td>2124</td>\n",
       "      <td>2965</td>\n",
       "      <td>1005501154</td>\n",
       "    </tr>\n",
       "    <tr>\n",
       "      <th>7403</th>\n",
       "      <td>201912</td>\n",
       "      <td>휴양콘도 운영업</td>\n",
       "      <td>제주도민</td>\n",
       "      <td>남성</td>\n",
       "      <td>961</td>\n",
       "      <td>1138</td>\n",
       "      <td>64709065</td>\n",
       "    </tr>\n",
       "    <tr>\n",
       "      <th>7404</th>\n",
       "      <td>201912</td>\n",
       "      <td>휴양콘도 운영업</td>\n",
       "      <td>제주도민</td>\n",
       "      <td>여성</td>\n",
       "      <td>898</td>\n",
       "      <td>1103</td>\n",
       "      <td>46842400</td>\n",
       "    </tr>\n",
       "    <tr>\n",
       "      <th>7405</th>\n",
       "      <td>201912</td>\n",
       "      <td>휴양콘도 운영업</td>\n",
       "      <td>중국</td>\n",
       "      <td>알수없음</td>\n",
       "      <td>1</td>\n",
       "      <td>1</td>\n",
       "      <td>182100</td>\n",
       "    </tr>\n",
       "  </tbody>\n",
       "</table>\n",
       "<p>3760 rows × 7 columns</p>\n",
       "</div>"
      ],
      "text/plain": [
       "          연월         업종명 이용자구분    성별  이용자수  이용건수        이용금액\n",
       "3646  201901  건강보조식품 소매업  기타외국  알수없음   343   378   374081950\n",
       "3647  201901  건강보조식품 소매업   내국인    남성   162   168    40399730\n",
       "3648  201901  건강보조식품 소매업   내국인    여성   185   201    41201115\n",
       "3649  201901  건강보조식품 소매업   동남아  알수없음     3     3     2561000\n",
       "3650  201901  건강보조식품 소매업    법인  알수없음   265   292   137864570\n",
       "...      ...         ...   ...   ...   ...   ...         ...\n",
       "7401  201912    휴양콘도 운영업   내국인    여성  4518  5274   414940548\n",
       "7402  201912    휴양콘도 운영업    법인  알수없음  2124  2965  1005501154\n",
       "7403  201912    휴양콘도 운영업  제주도민    남성   961  1138    64709065\n",
       "7404  201912    휴양콘도 운영업  제주도민    여성   898  1103    46842400\n",
       "7405  201912    휴양콘도 운영업    중국  알수없음     1     1      182100\n",
       "\n",
       "[3760 rows x 7 columns]"
      ]
     },
     "execution_count": 50,
     "metadata": {},
     "output_type": "execute_result"
    }
   ],
   "source": [
    "df1 = df.query('연월 >=201901 and 연월 <=201912')\n",
    "df1\n"
   ]
  },
  {
   "cell_type": "code",
   "execution_count": 51,
   "metadata": {},
   "outputs": [
    {
     "name": "stderr",
     "output_type": "stream",
     "text": [
      "C:\\Users\\hyk\\AppData\\Local\\Temp\\ipykernel_11404\\2744076029.py:1: SettingWithCopyWarning: \n",
      "A value is trying to be set on a copy of a slice from a DataFrame.\n",
      "Try using .loc[row_indexer,col_indexer] = value instead\n",
      "\n",
      "See the caveats in the documentation: https://pandas.pydata.org/pandas-docs/stable/user_guide/indexing.html#returning-a-view-versus-a-copy\n",
      "  df1['분류'] = '기타'\n"
     ]
    }
   ],
   "source": [
    "df1['분류'] = '기타'\n",
    "df1.loc[df1['업종명'] == '여관업','분류'] = '숙박'\n",
    "df1.loc[df1['업종명'] == '휴양콘도 운영업','분류'] = '숙박'\n",
    "df1.loc[df1['업종명'] == '호텔업','분류'] = '숙박'\n",
    "\n",
    "df1.loc[df1['업종명'] == '서양식 음식점업','분류'] = '식비' \n",
    "df1.loc[df1['업종명'] == '일식 음식점업','분류'] = '식비' \n",
    "df1.loc[df1['업종명'] == '비알콜 음료점업','분류'] = '식비' \n",
    "df1.loc[df1['업종명'] == '피자, 햄버거, 샌드위치 및 유사 음식점업','분류'] = '식비' \n",
    "df1.loc[df1['업종명'] == '기타 외국식 음식점업','분류'] = '식비' \n",
    "df1.loc[df1['업종명'] == '한식 음식점업','분류'] = '식비' \n",
    "df1.loc[df1['업종명'] == '중식 음식점업','분류'] = '식비' \n",
    "df1.loc[df1['업종명'] == '기타 주점업','분류'] = '식비' \n",
    "df1.loc[df1['업종명'] == '체인화 편의점','분류'] = '식비' \n",
    "df1.loc[df1['업종명'] == '일반유흥 주점업','분류'] = '식비' \n",
    "df1.loc[df1['업종명'] == '육류 소매업','분류'] = '식비' \n",
    "df1.loc[df1['업종명'] == '기타음?식료품위주종합소매업','분류'] = '식비'\n",
    "df1.loc[df1['업종명'] == '빵 및 과자류 소매업','분류'] = '식비' \n",
    "df1.loc[df1['업종명'] == '과실 및 채소 소매업','분류'] = '식비' \n",
    "df1.loc[df1['업종명'] == '기타음식료품위주종합소매업','분류'] = '식비' \n",
    "df1.loc[df1['업종명'] == '수산물 소매업','분류'] = '식비' \n",
    "df1.loc[df1['업종명'] == '슈퍼마켓','분류'] = '식비' \n",
    "\n",
    "df1.loc[df1['업종명'] == '내항 여객 운송업','분류'] = '교통'\n",
    "df1.loc[df1['업종명'] == '자동차 임대업','분류'] = '교통'\n",
    "df1.loc[df1['업종명'] == '정기 항공 운송업','분류'] = '교통'\n",
    "df1.loc[df1['업종명'] == '차량용 주유소 운영업','분류'] = '교통'\n",
    "df1.loc[df1['업종명'] == '차량용 가스 충전업','분류'] = '교통'\n",
    "df1.loc[df1['업종명'] == '택시 운송업','분류'] = '교통'\n",
    "df1.loc[df1['업종명'] == '버스 운송업','분류'] = '교통'"
   ]
  },
  {
   "cell_type": "code",
   "execution_count": null,
   "metadata": {},
   "outputs": [],
   "source": []
  },
  {
   "cell_type": "code",
   "execution_count": 41,
   "metadata": {},
   "outputs": [
    {
     "data": {
      "text/html": [
       "<div>\n",
       "<style scoped>\n",
       "    .dataframe tbody tr th:only-of-type {\n",
       "        vertical-align: middle;\n",
       "    }\n",
       "\n",
       "    .dataframe tbody tr th {\n",
       "        vertical-align: top;\n",
       "    }\n",
       "\n",
       "    .dataframe thead th {\n",
       "        text-align: right;\n",
       "    }\n",
       "</style>\n",
       "<table border=\"1\" class=\"dataframe\">\n",
       "  <thead>\n",
       "    <tr style=\"text-align: right;\">\n",
       "      <th>분류</th>\n",
       "      <th>교통</th>\n",
       "      <th>기타</th>\n",
       "      <th>숙박</th>\n",
       "      <th>식비</th>\n",
       "    </tr>\n",
       "    <tr>\n",
       "      <th>연월</th>\n",
       "      <th></th>\n",
       "      <th></th>\n",
       "      <th></th>\n",
       "      <th></th>\n",
       "    </tr>\n",
       "  </thead>\n",
       "  <tbody>\n",
       "    <tr>\n",
       "      <th>201801</th>\n",
       "      <td>25010301232</td>\n",
       "      <td>30836196020</td>\n",
       "      <td>10744442414</td>\n",
       "      <td>87629329044</td>\n",
       "    </tr>\n",
       "    <tr>\n",
       "      <th>201802</th>\n",
       "      <td>22099397995</td>\n",
       "      <td>30822141005</td>\n",
       "      <td>9392503702</td>\n",
       "      <td>82940242050</td>\n",
       "    </tr>\n",
       "    <tr>\n",
       "      <th>201803</th>\n",
       "      <td>24653503551</td>\n",
       "      <td>33690586679</td>\n",
       "      <td>9851284561</td>\n",
       "      <td>89704002139</td>\n",
       "    </tr>\n",
       "    <tr>\n",
       "      <th>201804</th>\n",
       "      <td>23867345444</td>\n",
       "      <td>37466877067</td>\n",
       "      <td>12588836258</td>\n",
       "      <td>95402354591</td>\n",
       "    </tr>\n",
       "    <tr>\n",
       "      <th>201805</th>\n",
       "      <td>24599194092</td>\n",
       "      <td>40793183081</td>\n",
       "      <td>13785489963</td>\n",
       "      <td>98203153479</td>\n",
       "    </tr>\n",
       "  </tbody>\n",
       "</table>\n",
       "</div>"
      ],
      "text/plain": [
       "분류               교통           기타           숙박           식비\n",
       "연월                                                        \n",
       "201801  25010301232  30836196020  10744442414  87629329044\n",
       "201802  22099397995  30822141005   9392503702  82940242050\n",
       "201803  24653503551  33690586679   9851284561  89704002139\n",
       "201804  23867345444  37466877067  12588836258  95402354591\n",
       "201805  24599194092  40793183081  13785489963  98203153479"
      ]
     },
     "execution_count": 41,
     "metadata": {},
     "output_type": "execute_result"
    }
   ],
   "source": [
    "pivot1 = pivot_table(df1,\n",
    "                     index='연월',\n",
    "                     columns='분류',\n",
    "                     values='이용금액',\n",
    "                     aggfunc='sum')\n",
    "pivot1.head()"
   ]
  },
  {
   "cell_type": "code",
   "execution_count": 42,
   "metadata": {},
   "outputs": [
    {
     "data": {
      "text/plain": [
       "교통           기타           숙박           식비          \n",
       "14908260775  20843121535  5198072917   67588548797     1\n",
       "23148480722  37051300124  13461629302  97903349219     1\n",
       "23868214456  41027689100  13853700552  99472470002     1\n",
       "23867345444  37466877067  12588836258  95402354591     1\n",
       "23688412001  33746783908  14922078418  99368960849     1\n",
       "                                                      ..\n",
       "22099397995  30822141005  9392503702   82940242050     1\n",
       "22135645982  33306353236  14388939990  98719993739     1\n",
       "22193702498  35016425056  14337581760  94863778526     1\n",
       "22280739033  34939289353  16373504335  93107038086     1\n",
       "26178145168  39202644735  19606488282  109108137952    1\n",
       "Name: count, Length: 70, dtype: int64"
      ]
     },
     "execution_count": 42,
     "metadata": {},
     "output_type": "execute_result"
    }
   ],
   "source": [
    "pivot1.value_counts()"
   ]
  },
  {
   "cell_type": "code",
   "execution_count": 46,
   "metadata": {},
   "outputs": [
    {
     "data": {
      "text/html": [
       "<div>\n",
       "<style scoped>\n",
       "    .dataframe tbody tr th:only-of-type {\n",
       "        vertical-align: middle;\n",
       "    }\n",
       "\n",
       "    .dataframe tbody tr th {\n",
       "        vertical-align: top;\n",
       "    }\n",
       "\n",
       "    .dataframe thead th {\n",
       "        text-align: right;\n",
       "    }\n",
       "</style>\n",
       "<table border=\"1\" class=\"dataframe\">\n",
       "  <thead>\n",
       "    <tr style=\"text-align: right;\">\n",
       "      <th></th>\n",
       "      <th>이용금액</th>\n",
       "    </tr>\n",
       "    <tr>\n",
       "      <th>분류</th>\n",
       "      <th></th>\n",
       "    </tr>\n",
       "  </thead>\n",
       "  <tbody>\n",
       "    <tr>\n",
       "      <th>교통</th>\n",
       "      <td>1526870956244</td>\n",
       "    </tr>\n",
       "    <tr>\n",
       "      <th>기타</th>\n",
       "      <td>2354782353415</td>\n",
       "    </tr>\n",
       "    <tr>\n",
       "      <th>숙박</th>\n",
       "      <td>932497139277</td>\n",
       "    </tr>\n",
       "    <tr>\n",
       "      <th>식비</th>\n",
       "      <td>6609045006756</td>\n",
       "    </tr>\n",
       "  </tbody>\n",
       "</table>\n",
       "</div>"
      ],
      "text/plain": [
       "             이용금액\n",
       "분류               \n",
       "교통  1526870956244\n",
       "기타  2354782353415\n",
       "숙박   932497139277\n",
       "식비  6609045006756"
      ]
     },
     "execution_count": 46,
     "metadata": {},
     "output_type": "execute_result"
    }
   ],
   "source": []
  },
  {
   "cell_type": "code",
   "execution_count": null,
   "metadata": {},
   "outputs": [],
   "source": []
  },
  {
   "cell_type": "code",
   "execution_count": null,
   "metadata": {},
   "outputs": [],
   "source": []
  },
  {
   "cell_type": "code",
   "execution_count": null,
   "metadata": {},
   "outputs": [],
   "source": []
  },
  {
   "cell_type": "code",
   "execution_count": null,
   "metadata": {},
   "outputs": [],
   "source": []
  },
  {
   "cell_type": "code",
   "execution_count": null,
   "metadata": {},
   "outputs": [],
   "source": []
  },
  {
   "cell_type": "code",
   "execution_count": 52,
   "metadata": {},
   "outputs": [
    {
     "data": {
      "text/plain": [
       "<Figure size 2400x1200 with 0 Axes>"
      ]
     },
     "metadata": {},
     "output_type": "display_data"
    },
    {
     "data": {
      "image/png": "[encoded data removed]",
      "text/plain": [
       "<Figure size 2400x1200 with 1 Axes>"
      ]
     },
     "metadata": {},
     "output_type": "display_data"
    }
   ],
   "source": [
    "plt.figure()\n",
    "df1[['이용금액','분류']].groupby('분류').sum().plot(kind='pie',autopct='%0.1f%%',subplots=True)\n",
    "plt.show()\n",
    "plt.close()"
   ]
  },
  {
   "cell_type": "code",
   "execution_count": null,
   "metadata": {},
   "outputs": [],
   "source": []
  },
  {
   "cell_type": "code",
   "execution_count": null,
   "metadata": {},
   "outputs": [],
   "source": []
  },
  {
   "cell_type": "code",
   "execution_count": null,
   "metadata": {},
   "outputs": [],
   "source": []
  },
  {
   "cell_type": "code",
   "execution_count": null,
   "metadata": {},
   "outputs": [],
   "source": []
  },
  {
   "cell_type": "code",
   "execution_count": null,
   "metadata": {},
   "outputs": [],
   "source": []
  },
  {
   "cell_type": "code",
   "execution_count": null,
   "metadata": {},
   "outputs": [],
   "source": []
  },
  {
   "cell_type": "code",
   "execution_count": null,
   "metadata": {},
   "outputs": [],
   "source": []
  },
  {
   "cell_type": "code",
   "execution_count": null,
   "metadata": {},
   "outputs": [],
   "source": []
  },
  {
   "cell_type": "code",
   "execution_count": null,
   "metadata": {},
   "outputs": [],
   "source": []
  },
  {
   "cell_type": "code",
   "execution_count": null,
   "metadata": {},
   "outputs": [],
   "source": []
  },
  {
   "cell_type": "code",
   "execution_count": null,
   "metadata": {},
   "outputs": [],
   "source": [
    "['','','관광 민예품 및 선물용품 소매업', '', '그외 기타 스포츠시설 운영업', '그외 기타 종합 소매업', '기타 갬블링 및 베팅업', '기타 대형 종합 소매업', '기타 수상오락 서비스업','', '','스포츠 및 레크레이션 용품 임대업',  '여행사업', '욕탕업','전시 및 행사 대행업','화장품 및 방향제 소매업']\n",
    "\n",
    "\n",
    "['', '기타 수상오락 서비스업','', '', '욕탕업', '기타 대형 종합 소매업','그외 기타 스포츠시설 운영업',  '','관광 민예품 및 선물용품 소매업', '','스포츠 및 레크레이션 용품 임대업', '전시 및 행사 대행업','기타 갬블링 및 베팅업', '화장품 및 방향제 소매업','여행사업']\n"
   ]
  }
 ],
 "metadata": {
  "kernelspec": {
   "display_name": "Python 3",
   "language": "python",
   "name": "python3"
  },
  "language_info": {
   "codemirror_mode": {
    "name": "ipython",
    "version": 3
   },
   "file_extension": ".py",
   "mimetype": "text/x-python",
   "name": "python",
   "nbconvert_exporter": "python",
   "pygments_lexer": "ipython3",
   "version": "3.11.7"
  }
 },
 "nbformat": 4,
 "nbformat_minor": 2
}
