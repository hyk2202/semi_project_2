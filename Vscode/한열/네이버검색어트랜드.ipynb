{
 "cells": [
  {
   "cell_type": "code",
   "execution_count": null,
   "metadata": {},
   "outputs": [],
   "source": [
    "import requests\n",
    "import json\n",
    "import datetime as dt\n",
    "import os\n",
    "from dotenv import load_dotenv\n",
    "import warnings\n",
    "warnings.filterwarnings(action='ignore')\n",
    "from pandas import read_csv,merge,concat,melt, read_excel, DataFrame\n",
    "import sys\n",
    "import seaborn as sb\n",
    "import numpy as np\n",
    "from matplotlib import pyplot as plt\n",
    "plt.rcParams['font.family'] = 'AppleGothic' if sys.platform == 'darwin' else 'Malgun Gothic'\n",
    "plt.rcParams['font.size'] = 12\n",
    "plt.rcParams['figure.figsize'] = (12, 6)\n",
    "plt.rcParams['figure.dpi'] = 200\n",
    "plt.rcParams['axes.unicode_minus'] = False\n"
   ]
  },
  {
   "cell_type": "code",
   "execution_count": null,
   "metadata": {},
   "outputs": [],
   "source": [
    "url = \"https://openapi.naver.com/v1/datalab/search\"\n"
   ]
  },
  {
   "cell_type": "code",
   "execution_count": null,
   "metadata": {},
   "outputs": [],
   "source": [
    "load_dotenv(dotenv_path = '../../dot_env/.env')\n",
    "clientId = os.environ.get(\"naverId\")\n",
    "clientSecret = os.environ.get(\"naverPw\")"
   ]
  },
  {
   "cell_type": "code",
   "execution_count": null,
   "metadata": {},
   "outputs": [],
   "source": [
    "params  = {\n",
    "    \"startDate\" : '2018-01-01',\n",
    "    \"endDate\" : '2021-12-31',\n",
    "    \"timeUnit\" : \"date\", # date: 일간, week: 주간, month: 월간\n",
    "    \"keywordGroups\": [\n",
    "        {\n",
    "            \"groupName\": \"제주도\",  # 검색주제\n",
    "            \"keywords\": [\"제주도\", \"제주도 가볼만한곳\", \"제주도 맛집\", \"제주도 숙소\", \"제주도 날씨\"]   # 주제와 관련된 검색어\n",
    "        }\n",
    "    ]\n",
    "}\n"
   ]
  },
  {
   "cell_type": "code",
   "execution_count": null,
   "metadata": {},
   "outputs": [],
   "source": [
    "session = requests.Session()\n",
    "\n",
    "session.headers.update({\n",
    "    \"Referer\": \"\",\n",
    "    \"User-Agent\": \"Mozilla/5.0 (Windows NT 10.0; Win64; x64) AppleWebKit/537.36 (KHTML, like Gecko) Chrome/120.0.0.0 Safari/537.36\",\n",
    "    \"X-Naver-Client-Id\": clientId,\n",
    "    \"X-Naver-Client-Secret\": clientSecret\n",
    "})\n"
   ]
  },
  {
   "cell_type": "code",
   "execution_count": null,
   "metadata": {},
   "outputs": [],
   "source": [
    "try:\n",
    "    r = session.post(url, data=json.dumps(params)) # json.dumps : 딕셔너리를 json으로 만들어주는 메서드\n",
    "    \n",
    "    if r.status_code != 200:\n",
    "        msg = \"[%d Error] %s 에러가 발생함\" % (r.status_code, r.reason)\n",
    "        raise Exception(msg)\n",
    "except Exception as e:\n",
    "    print(\"접속에 실패했습니다.\")\n",
    "    print(e)"
   ]
  },
  {
   "cell_type": "code",
   "execution_count": null,
   "metadata": {},
   "outputs": [],
   "source": [
    "r.encoding = \"utf-8\"\n",
    "mydict = json.loads(r.text)\n",
    "\n",
    "print(\"검색 결과 수 :\", len(mydict['results']))\n",
    "mydict"
   ]
  },
  {
   "cell_type": "code",
   "execution_count": null,
   "metadata": {},
   "outputs": [],
   "source": [
    "df = DataFrame(mydict['results'][0]['data'])\n",
    "df.plot.line(x='period', y='ratio', color=\"#0066ff\",figsize = (30,10), legend=False)\n",
    "plt.xlabel('')\n",
    "plt.ylim(0,105)\n",
    "plt.grid()\n",
    "plt.show()\n",
    "plt.close()"
   ]
  },
  {
   "cell_type": "code",
   "execution_count": null,
   "metadata": {},
   "outputs": [],
   "source": [
    "df.query('period >= \"2019-01-01\"').plot.line(x='period', y='ratio', color=\"#0066ff\",figsize = (30,10), legend=False)\n",
    "plt.xlabel('')\n",
    "plt.grid()\n",
    "plt.ylim(0,105)\n",
    "plt.show()\n",
    "plt.close()\n"
   ]
  }
 ],
 "metadata": {
  "kernelspec": {
   "display_name": "Python 3",
   "language": "python",
   "name": "python3"
  },
  "language_info": {
   "codemirror_mode": {
    "name": "ipython",
    "version": 3
   },
   "file_extension": ".py",
   "mimetype": "text/x-python",
   "name": "python",
   "nbconvert_exporter": "python",
   "pygments_lexer": "ipython3",
   "version": "3.11.7"
  }
 },
 "nbformat": 4,
 "nbformat_minor": 2
}
